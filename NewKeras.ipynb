{
  "cells": [
    {
      "cell_type": "markdown",
      "metadata": {
        "id": "view-in-github",
        "colab_type": "text"
      },
      "source": [
        "<a href=\"https://colab.research.google.com/github/ehsanjafarimehako/AI_Codes/blob/main/NewKeras.ipynb\" target=\"_parent\"><img src=\"https://colab.research.google.com/assets/colab-badge.svg\" alt=\"Open In Colab\"/></a>"
      ]
    },
    {
      "cell_type": "code",
      "source": [
        "import os\n",
        "import tensorflow as tf\n",
        "import keras\n",
        "import numpy as np\n",
        "import cv2 as cv\n",
        "import random\n",
        "import matplotlib.pyplot as plt"
      ],
      "metadata": {
        "id": "pBDUdYmfXjJd"
      },
      "execution_count": null,
      "outputs": []
    },
    {
      "cell_type": "code",
      "source": [
        "!pip install roboflow\n",
        "\n",
        "from roboflow import Roboflow\n",
        "rf = Roboflow(api_key=\"VdwBRxsJsFmCMW94xJjd\")\n",
        "project = rf.workspace(\"object-detection-yolov5\").project(\"plate_ocr_ir\")\n",
        "dataset = project.version(2).download(\"folder\")"
      ],
      "metadata": {
        "id": "sQLnkBqVr9SF"
      },
      "execution_count": null,
      "outputs": []
    },
    {
      "cell_type": "code",
      "source": [
        "#upload .rar of dataset\n",
        "!sudo apt-get install unrar\n",
        "!unrar x /content/Plate_Chars_dataset.rar"
      ],
      "metadata": {
        "colab": {
          "base_uri": "https://localhost:8080/"
        },
        "id": "YuIRR1C44epo",
        "outputId": "20af2a86-31df-49fa-f59d-896492589862"
      },
      "execution_count": null,
      "outputs": [
        {
          "output_type": "stream",
          "name": "stdout",
          "text": [
            "Reading package lists... Done\n",
            "Building dependency tree       \n",
            "Reading state information... Done\n",
            "unrar is already the newest version (1:5.6.6-2build1).\n",
            "0 upgraded, 0 newly installed, 0 to remove and 34 not upgraded.\n"
          ]
        }
      ]
    },
    {
      "cell_type": "code",
      "source": [
        "\n",
        "#resize images to specific size\n",
        "from PIL import Image\n",
        "import os\n",
        "\n",
        "# Set the input and output directories\n",
        "input_dir = \"/content/valid\"\n",
        "output_dir =  \"/content/output/valid\"\n",
        "\n",
        "# Set the target size\n",
        "target_size = (28, 28)\n",
        "\n",
        "def resize_images(input_dir, output_dir):\n",
        "    # Loop through all files in the input directory\n",
        "    for filename in os.listdir(input_dir):\n",
        "        # Get the full path of the file\n",
        "        file_path = os.path.join(input_dir, filename)\n",
        "        # Check if the file is a directory\n",
        "        if os.path.isdir(file_path):\n",
        "            # If the file is a directory, recursively call this function on the subdirectory\n",
        "            resize_images(file_path, os.path.join(output_dir, filename))\n",
        "        # Check if the file is an image\n",
        "        elif filename.endswith(\".jpg\") or filename.endswith(\".png\") or filename.endswith(\".jpeg\"):\n",
        "            # Open the image file using PIL\n",
        "            image = Image.open(file_path)\n",
        "            # Resize the image to the target size\n",
        "            resized_image = image.resize(target_size)\n",
        "            # Save the resized image to the output directory\n",
        "            # If the output directory does not exist, create it\n",
        "            if not os.path.exists(output_dir):\n",
        "                os.makedirs(output_dir)\n",
        "            resized_image.save(os.path.join(output_dir, filename))\n",
        "\n",
        "# Call the resize_images function on the input directory\n",
        "resize_images(input_dir, output_dir)"
      ],
      "metadata": {
        "id": "OCx30xvL_43Y"
      },
      "execution_count": null,
      "outputs": []
    },
    {
      "cell_type": "code",
      "source": [
        "train_path = \"/content/output/train\"\n",
        "valid_path = \"/content/output/valid\"\n",
        "test_path = \"/content/output/test\""
      ],
      "metadata": {
        "id": "jxpZw3bok3Ux"
      },
      "execution_count": null,
      "outputs": []
    },
    {
      "cell_type": "code",
      "source": [
        "#updata class names here and in the final run code\n",
        "class_names = subdirs = ['0', '1', '2', '3', '4', '5', '6', '7', '8', '9', 'alef', 'ayn', 'be', 'dal', 'ghaf', 'he2', 'jim', 'lam', 'mim', 'non', 'sad', 'sin', 'ta', 'vav', 'ye' ]\n",
        "num_classes = len(class_names)"
      ],
      "metadata": {
        "id": "mK881Ni5lG2f"
      },
      "execution_count": null,
      "outputs": []
    },
    {
      "cell_type": "code",
      "source": [
        "labels_nums = [i for i in range(0,len(class_names))]\n",
        "print(labels_nums)"
      ],
      "metadata": {
        "colab": {
          "base_uri": "https://localhost:8080/"
        },
        "id": "7a98ohwtldP_",
        "outputId": "947d5282-6f14-4476-b5f3-266b194caf0e"
      },
      "execution_count": null,
      "outputs": [
        {
          "output_type": "stream",
          "name": "stdout",
          "text": [
            "[0, 1, 2, 3, 4, 5, 6, 7, 8, 9, 10, 11, 12, 13, 14, 15, 16, 17, 18, 19, 20, 21, 22, 23, 24]\n"
          ]
        }
      ]
    },
    {
      "cell_type": "code",
      "source": [
        "train_imgs = []\n",
        "train_labels = []\n",
        "for indx, subdir in enumerate(subdirs):\n",
        "  imgfolder = os.path.join(train_path, subdir)\n",
        "  for imgname in os.listdir(imgfolder):\n",
        "    img = cv.imread(os.path.join(imgfolder, imgname), 0)\n",
        "    train_imgs.append(img)\n",
        "    train_labels.append(labels_nums[indx])\n",
        "\n",
        "c = list(zip(train_imgs, train_labels))\n",
        "random.shuffle(c)\n",
        "train_imgs, train_labels = zip(*c)\n",
        "\n",
        "train_images = np.array(train_imgs)\n",
        "train_labels = np.array(train_labels)"
      ],
      "metadata": {
        "id": "83uEUjWSk3Xv"
      },
      "execution_count": null,
      "outputs": []
    },
    {
      "cell_type": "code",
      "source": [
        "valid_imgs = []\n",
        "valid_labels = []\n",
        "for indx, subdir in enumerate(subdirs):\n",
        "  imgfolder = os.path.join(valid_path, subdir)\n",
        "  if os.path.exists(imgfolder):\n",
        "    for imgname in os.listdir(imgfolder):\n",
        "      img = cv.imread(os.path.join(imgfolder, imgname), 0)\n",
        "      valid_imgs.append(img)\n",
        "      valid_labels.append(labels_nums[indx])\n",
        "\n",
        "c = list(zip(valid_imgs, valid_labels))\n",
        "random.shuffle(c)\n",
        "valid_imgs, valid_labels = zip(*c)\n",
        "\n",
        "test_images = np.array(valid_imgs)\n",
        "test_labels = np.array(valid_labels)"
      ],
      "metadata": {
        "id": "siVE8t-NncUb"
      },
      "execution_count": null,
      "outputs": []
    },
    {
      "cell_type": "code",
      "source": [
        "num=0\n",
        "print(class_names[train_labels[num]])\n",
        "print(train_labels[num])\n",
        "plt.imshow(train_images[num])"
      ],
      "metadata": {
        "colab": {
          "base_uri": "https://localhost:8080/",
          "height": 482
        },
        "id": "_bHSWkmIvQel",
        "outputId": "058a9d2f-00c1-4873-a01b-ba724aed5a8e"
      },
      "execution_count": null,
      "outputs": [
        {
          "output_type": "stream",
          "name": "stdout",
          "text": [
            "8\n",
            "8\n"
          ]
        },
        {
          "output_type": "execute_result",
          "data": {
            "text/plain": [
              "<matplotlib.image.AxesImage at 0x7f3d3ecc40d0>"
            ]
          },
          "metadata": {},
          "execution_count": 104
        },
        {
          "output_type": "display_data",
          "data": {
            "text/plain": [
              "<Figure size 640x480 with 1 Axes>"
            ],
            "image/png": "[encoded data removed]"
          },
          "metadata": {}
        }
      ]
    },
    {
      "cell_type": "code",
      "source": [
        "test_labels.shape"
      ],
      "metadata": {
        "colab": {
          "base_uri": "https://localhost:8080/"
        },
        "id": "0gyRuX2pmPA9",
        "outputId": "e9b153d5-04d3-4598-f527-a9b9f2801794"
      },
      "execution_count": null,
      "outputs": [
        {
          "output_type": "execute_result",
          "data": {
            "text/plain": [
              "(2097,)"
            ]
          },
          "metadata": {},
          "execution_count": 105
        }
      ]
    },
    {
      "cell_type": "code",
      "source": [
        "train_images=np.array(list(filter(lambda x: x is not None, train_images)))"
      ],
      "metadata": {
        "colab": {
          "base_uri": "https://localhost:8080/"
        },
        "id": "kl7N1Bgg_Ck8",
        "outputId": "470aafa0-7d49-48d2-ef7d-64e3521b6272"
      },
      "execution_count": null,
      "outputs": [
        {
          "output_type": "stream",
          "name": "stderr",
          "text": [
            "<ipython-input-88-f75403956f27>:1: VisibleDeprecationWarning: Creating an ndarray from ragged nested sequences (which is a list-or-tuple of lists-or-tuples-or ndarrays with different lengths or shapes) is deprecated. If you meant to do this, you must specify 'dtype=object' when creating the ndarray.\n",
            "  train_images=np.array(list(filter(lambda x: x is not None, train_images)))\n"
          ]
        }
      ]
    },
    {
      "cell_type": "code",
      "source": [
        "train_images = train_images / 255.0\n",
        "test_images = test_images / 255.0"
      ],
      "metadata": {
        "id": "yfyYxNfmoX7A"
      },
      "execution_count": null,
      "outputs": []
    },
    {
      "cell_type": "code",
      "source": [
        "model = keras.Sequential([\n",
        "    keras.layers.Flatten(input_shape=(24, 24)),\n",
        "    keras.layers.Dense(128, activation=tf.nn.relu),\n",
        "    keras.layers.Dense(num_classes, activation=tf.nn.softmax)\n",
        "])"
      ],
      "metadata": {
        "id": "_pJZoNMtoX9h"
      },
      "execution_count": null,
      "outputs": []
    },
    {
      "cell_type": "code",
      "source": [
        "model.compile(optimizer='adam',\n",
        "              loss='sparse_categorical_crossentropy',\n",
        "              metrics=['accuracy'])"
      ],
      "metadata": {
        "id": "iIRIf8q8oYAB"
      },
      "execution_count": null,
      "outputs": []
    },
    {
      "cell_type": "code",
      "source": [
        "model.fit(train_images, train_labels, epochs=200)\n"
      ],
      "metadata": {
        "id": "BCrJBnmCoumW",
        "colab": {
          "base_uri": "https://localhost:8080/"
        },
        "outputId": "a1ebaa4c-3172-49c9-aab8-74051c2542ce"
      },
      "execution_count": null,
      "outputs": [
        {
          "output_type": "stream",
          "name": "stdout",
          "text": [
            "Epoch 1/200\n",
            "544/544 [==============================] - 7s 3ms/step - loss: 0.2245 - accuracy: 0.9450\n",
            "Epoch 2/200\n",
            "544/544 [==============================] - 2s 3ms/step - loss: 0.0364 - accuracy: 0.9906\n",
            "Epoch 3/200\n",
            "544/544 [==============================] - 2s 3ms/step - loss: 0.0242 - accuracy: 0.9938\n",
            "Epoch 4/200\n",
            "544/544 [==============================] - 2s 3ms/step - loss: 0.0184 - accuracy: 0.9945\n",
            "Epoch 5/200\n",
            "544/544 [==============================] - 2s 4ms/step - loss: 0.0161 - accuracy: 0.9957\n",
            "Epoch 6/200\n",
            "544/544 [==============================] - 2s 4ms/step - loss: 0.0113 - accuracy: 0.9966\n",
            "Epoch 7/200\n",
            "544/544 [==============================] - 2s 3ms/step - loss: 0.0110 - accuracy: 0.9967\n",
            "Epoch 8/200\n",
            "544/544 [==============================] - 2s 3ms/step - loss: 0.0095 - accuracy: 0.9971\n",
            "Epoch 9/200\n",
            "544/544 [==============================] - 2s 3ms/step - loss: 0.0074 - accuracy: 0.9979\n",
            "Epoch 10/200\n",
            "544/544 [==============================] - 2s 3ms/step - loss: 0.0040 - accuracy: 0.9988\n",
            "Epoch 11/200\n",
            "544/544 [==============================] - 2s 3ms/step - loss: 0.0114 - accuracy: 0.9965\n",
            "Epoch 12/200\n",
            "544/544 [==============================] - 2s 4ms/step - loss: 0.0047 - accuracy: 0.9985\n",
            "Epoch 13/200\n",
            "544/544 [==============================] - 2s 4ms/step - loss: 0.0078 - accuracy: 0.9975\n",
            "Epoch 14/200\n",
            "544/544 [==============================] - 2s 3ms/step - loss: 0.0069 - accuracy: 0.9980\n",
            "Epoch 15/200\n",
            "544/544 [==============================] - 2s 3ms/step - loss: 0.0055 - accuracy: 0.9978\n",
            "Epoch 16/200\n",
            "544/544 [==============================] - 2s 3ms/step - loss: 0.0020 - accuracy: 0.9995\n",
            "Epoch 17/200\n",
            "544/544 [==============================] - 2s 3ms/step - loss: 0.0021 - accuracy: 0.9992\n",
            "Epoch 18/200\n",
            "544/544 [==============================] - 2s 3ms/step - loss: 0.0072 - accuracy: 0.9977\n",
            "Epoch 19/200\n",
            "544/544 [==============================] - 2s 4ms/step - loss: 0.0045 - accuracy: 0.9990\n",
            "Epoch 20/200\n",
            "544/544 [==============================] - 2s 4ms/step - loss: 0.0015 - accuracy: 0.9995\n",
            "Epoch 21/200\n",
            "544/544 [==============================] - 2s 3ms/step - loss: 0.0060 - accuracy: 0.9978\n",
            "Epoch 22/200\n",
            "544/544 [==============================] - 2s 3ms/step - loss: 0.0073 - accuracy: 0.9978\n",
            "Epoch 23/200\n",
            "544/544 [==============================] - 2s 3ms/step - loss: 0.0018 - accuracy: 0.9995\n",
            "Epoch 24/200\n",
            "544/544 [==============================] - 2s 3ms/step - loss: 0.0074 - accuracy: 0.9986\n",
            "Epoch 25/200\n",
            "544/544 [==============================] - 2s 3ms/step - loss: 0.0053 - accuracy: 0.9982\n",
            "Epoch 26/200\n",
            "544/544 [==============================] - 2s 4ms/step - loss: 6.9661e-04 - accuracy: 0.9999\n",
            "Epoch 27/200\n",
            "544/544 [==============================] - 2s 4ms/step - loss: 1.7257e-04 - accuracy: 0.9999\n",
            "Epoch 28/200\n",
            "544/544 [==============================] - 2s 3ms/step - loss: 1.0610e-04 - accuracy: 1.0000\n",
            "Epoch 29/200\n",
            "544/544 [==============================] - 2s 3ms/step - loss: 1.9621e-04 - accuracy: 0.9999\n",
            "Epoch 30/200\n",
            "544/544 [==============================] - 2s 3ms/step - loss: 5.1407e-05 - accuracy: 1.0000\n",
            "Epoch 31/200\n",
            "544/544 [==============================] - 2s 3ms/step - loss: 0.0059 - accuracy: 0.9987\n",
            "Epoch 32/200\n",
            "544/544 [==============================] - 2s 3ms/step - loss: 0.0091 - accuracy: 0.9965\n",
            "Epoch 33/200\n",
            "544/544 [==============================] - 2s 4ms/step - loss: 0.0041 - accuracy: 0.9989\n",
            "Epoch 34/200\n",
            "544/544 [==============================] - 2s 4ms/step - loss: 0.0025 - accuracy: 0.9994\n",
            "Epoch 35/200\n",
            "544/544 [==============================] - 2s 3ms/step - loss: 8.3228e-04 - accuracy: 0.9997\n",
            "Epoch 36/200\n",
            "544/544 [==============================] - 2s 3ms/step - loss: 0.0026 - accuracy: 0.9993\n",
            "Epoch 37/200\n",
            "544/544 [==============================] - 2s 3ms/step - loss: 0.0012 - accuracy: 0.9996\n",
            "Epoch 38/200\n",
            "544/544 [==============================] - 2s 3ms/step - loss: 5.7816e-05 - accuracy: 1.0000\n",
            "Epoch 39/200\n",
            "544/544 [==============================] - 2s 3ms/step - loss: 2.6790e-05 - accuracy: 1.0000\n",
            "Epoch 40/200\n",
            "544/544 [==============================] - 2s 4ms/step - loss: 2.3959e-05 - accuracy: 1.0000\n",
            "Epoch 41/200\n",
            "544/544 [==============================] - 2s 3ms/step - loss: 2.2849e-05 - accuracy: 1.0000\n",
            "Epoch 42/200\n",
            "544/544 [==============================] - 2s 3ms/step - loss: 2.2459e-05 - accuracy: 1.0000\n",
            "Epoch 43/200\n",
            "544/544 [==============================] - 2s 3ms/step - loss: 1.8303e-05 - accuracy: 1.0000\n",
            "Epoch 44/200\n",
            "544/544 [==============================] - 2s 3ms/step - loss: 1.4052e-05 - accuracy: 1.0000\n",
            "Epoch 45/200\n",
            "544/544 [==============================] - 2s 3ms/step - loss: 0.0011 - accuracy: 0.9999\n",
            "Epoch 46/200\n",
            "544/544 [==============================] - 2s 4ms/step - loss: 0.0157 - accuracy: 0.9956\n",
            "Epoch 47/200\n",
            "544/544 [==============================] - 2s 4ms/step - loss: 0.0012 - accuracy: 0.9995\n",
            "Epoch 48/200\n",
            "544/544 [==============================] - 2s 3ms/step - loss: 1.1159e-04 - accuracy: 1.0000\n",
            "Epoch 49/200\n",
            "544/544 [==============================] - 2s 3ms/step - loss: 9.0850e-05 - accuracy: 1.0000\n",
            "Epoch 50/200\n",
            "544/544 [==============================] - 2s 3ms/step - loss: 5.7757e-04 - accuracy: 0.9999\n",
            "Epoch 51/200\n",
            "544/544 [==============================] - 2s 3ms/step - loss: 2.1000e-04 - accuracy: 0.9999\n",
            "Epoch 52/200\n",
            "544/544 [==============================] - 2s 3ms/step - loss: 4.3300e-05 - accuracy: 1.0000\n",
            "Epoch 53/200\n",
            "544/544 [==============================] - 2s 4ms/step - loss: 0.0030 - accuracy: 0.9995\n",
            "Epoch 54/200\n",
            "544/544 [==============================] - 2s 4ms/step - loss: 0.0115 - accuracy: 0.9971\n",
            "Epoch 55/200\n",
            "544/544 [==============================] - 2s 3ms/step - loss: 1.0523e-04 - accuracy: 1.0000\n",
            "Epoch 56/200\n",
            "544/544 [==============================] - 2s 3ms/step - loss: 7.2221e-04 - accuracy: 0.9997\n",
            "Epoch 57/200\n",
            "544/544 [==============================] - 2s 3ms/step - loss: 0.0030 - accuracy: 0.9993\n",
            "Epoch 58/200\n",
            "544/544 [==============================] - 2s 3ms/step - loss: 4.0506e-04 - accuracy: 0.9999\n",
            "Epoch 59/200\n",
            "544/544 [==============================] - 2s 3ms/step - loss: 2.3062e-05 - accuracy: 1.0000\n",
            "Epoch 60/200\n",
            "544/544 [==============================] - 2s 4ms/step - loss: 1.2534e-05 - accuracy: 1.0000\n",
            "Epoch 61/200\n",
            "544/544 [==============================] - 2s 4ms/step - loss: 1.1432e-05 - accuracy: 1.0000\n",
            "Epoch 62/200\n",
            "544/544 [==============================] - 2s 3ms/step - loss: 9.4161e-06 - accuracy: 1.0000\n",
            "Epoch 63/200\n",
            "544/544 [==============================] - 2s 3ms/step - loss: 0.0079 - accuracy: 0.9978\n",
            "Epoch 64/200\n",
            "544/544 [==============================] - 2s 3ms/step - loss: 0.0094 - accuracy: 0.9981\n",
            "Epoch 65/200\n",
            "544/544 [==============================] - 2s 3ms/step - loss: 3.3757e-04 - accuracy: 0.9998\n",
            "Epoch 66/200\n",
            "544/544 [==============================] - 2s 3ms/step - loss: 2.6968e-04 - accuracy: 0.9999\n",
            "Epoch 67/200\n",
            "544/544 [==============================] - 2s 4ms/step - loss: 1.2896e-04 - accuracy: 0.9999\n",
            "Epoch 68/200\n",
            "544/544 [==============================] - 2s 3ms/step - loss: 1.9167e-05 - accuracy: 1.0000\n",
            "Epoch 69/200\n",
            "544/544 [==============================] - 2s 3ms/step - loss: 9.6818e-06 - accuracy: 1.0000\n",
            "Epoch 70/200\n",
            "544/544 [==============================] - 2s 3ms/step - loss: 8.9657e-06 - accuracy: 1.0000\n",
            "Epoch 71/200\n",
            "544/544 [==============================] - 2s 3ms/step - loss: 8.4740e-06 - accuracy: 1.0000\n",
            "Epoch 72/200\n",
            "544/544 [==============================] - 2s 3ms/step - loss: 7.7852e-06 - accuracy: 1.0000\n",
            "Epoch 73/200\n",
            "544/544 [==============================] - 2s 3ms/step - loss: 7.1694e-06 - accuracy: 1.0000\n",
            "Epoch 74/200\n",
            "544/544 [==============================] - 3s 5ms/step - loss: 6.0104e-06 - accuracy: 1.0000\n",
            "Epoch 75/200\n",
            "544/544 [==============================] - 2s 3ms/step - loss: 4.6290e-06 - accuracy: 1.0000\n",
            "Epoch 76/200\n",
            "544/544 [==============================] - 2s 3ms/step - loss: 0.0116 - accuracy: 0.9975\n",
            "Epoch 77/200\n",
            "544/544 [==============================] - 2s 3ms/step - loss: 5.8668e-04 - accuracy: 0.9998\n",
            "Epoch 78/200\n",
            "544/544 [==============================] - 2s 3ms/step - loss: 0.0017 - accuracy: 0.9994\n",
            "Epoch 79/200\n",
            "544/544 [==============================] - 2s 3ms/step - loss: 3.6188e-04 - accuracy: 0.9999\n",
            "Epoch 80/200\n",
            "544/544 [==============================] - 2s 4ms/step - loss: 2.6264e-05 - accuracy: 1.0000\n",
            "Epoch 81/200\n",
            "544/544 [==============================] - 2s 4ms/step - loss: 1.1725e-05 - accuracy: 1.0000\n",
            "Epoch 82/200\n",
            "544/544 [==============================] - 2s 3ms/step - loss: 7.7810e-06 - accuracy: 1.0000\n",
            "Epoch 83/200\n",
            "544/544 [==============================] - 2s 3ms/step - loss: 6.5945e-06 - accuracy: 1.0000\n",
            "Epoch 84/200\n",
            "544/544 [==============================] - 2s 3ms/step - loss: 6.7026e-06 - accuracy: 1.0000\n",
            "Epoch 85/200\n",
            "544/544 [==============================] - 2s 3ms/step - loss: 5.8201e-06 - accuracy: 1.0000\n",
            "Epoch 86/200\n",
            "544/544 [==============================] - 2s 3ms/step - loss: 4.9314e-06 - accuracy: 1.0000\n",
            "Epoch 87/200\n",
            "544/544 [==============================] - 2s 4ms/step - loss: 6.6791e-06 - accuracy: 1.0000\n",
            "Epoch 88/200\n",
            "544/544 [==============================] - 2s 4ms/step - loss: 3.8160e-06 - accuracy: 1.0000\n",
            "Epoch 89/200\n",
            "544/544 [==============================] - 2s 3ms/step - loss: 5.2281e-06 - accuracy: 1.0000\n",
            "Epoch 90/200\n",
            "544/544 [==============================] - 2s 3ms/step - loss: 0.0134 - accuracy: 0.9966\n",
            "Epoch 91/200\n",
            "544/544 [==============================] - 2s 3ms/step - loss: 0.0017 - accuracy: 0.9996\n",
            "Epoch 92/200\n",
            "544/544 [==============================] - 2s 3ms/step - loss: 3.0035e-05 - accuracy: 1.0000\n",
            "Epoch 93/200\n",
            "544/544 [==============================] - 2s 3ms/step - loss: 1.0671e-05 - accuracy: 1.0000\n",
            "Epoch 94/200\n",
            "544/544 [==============================] - 2s 5ms/step - loss: 7.6665e-06 - accuracy: 1.0000\n",
            "Epoch 95/200\n",
            "544/544 [==============================] - 2s 4ms/step - loss: 5.7091e-06 - accuracy: 1.0000\n",
            "Epoch 96/200\n",
            "544/544 [==============================] - 2s 3ms/step - loss: 4.6412e-06 - accuracy: 1.0000\n",
            "Epoch 97/200\n",
            "544/544 [==============================] - 2s 3ms/step - loss: 3.8755e-06 - accuracy: 1.0000\n",
            "Epoch 98/200\n",
            "544/544 [==============================] - 2s 3ms/step - loss: 3.4591e-06 - accuracy: 1.0000\n",
            "Epoch 99/200\n",
            "544/544 [==============================] - 2s 3ms/step - loss: 3.0019e-06 - accuracy: 1.0000\n",
            "Epoch 100/200\n",
            "544/544 [==============================] - 2s 3ms/step - loss: 2.7968e-06 - accuracy: 1.0000\n",
            "Epoch 101/200\n",
            "544/544 [==============================] - 2s 5ms/step - loss: 2.0594e-06 - accuracy: 1.0000\n",
            "Epoch 102/200\n",
            "544/544 [==============================] - 2s 3ms/step - loss: 1.7260e-06 - accuracy: 1.0000\n",
            "Epoch 103/200\n",
            "544/544 [==============================] - 2s 3ms/step - loss: 1.3374e-06 - accuracy: 1.0000\n",
            "Epoch 104/200\n",
            "544/544 [==============================] - 2s 3ms/step - loss: 1.1290e-06 - accuracy: 1.0000\n",
            "Epoch 105/200\n",
            "544/544 [==============================] - 2s 3ms/step - loss: 0.0158 - accuracy: 0.9970\n",
            "Epoch 106/200\n",
            "544/544 [==============================] - 2s 3ms/step - loss: 0.0033 - accuracy: 0.9989\n",
            "Epoch 107/200\n",
            "544/544 [==============================] - 2s 4ms/step - loss: 2.9540e-05 - accuracy: 1.0000\n",
            "Epoch 108/200\n",
            "544/544 [==============================] - 2s 4ms/step - loss: 1.0928e-05 - accuracy: 1.0000\n",
            "Epoch 109/200\n",
            "544/544 [==============================] - 2s 3ms/step - loss: 8.0089e-06 - accuracy: 1.0000\n",
            "Epoch 110/200\n",
            "544/544 [==============================] - 2s 3ms/step - loss: 6.3727e-06 - accuracy: 1.0000\n",
            "Epoch 111/200\n",
            "544/544 [==============================] - 2s 3ms/step - loss: 5.4064e-06 - accuracy: 1.0000\n",
            "Epoch 112/200\n",
            "544/544 [==============================] - 2s 3ms/step - loss: 4.6968e-06 - accuracy: 1.0000\n",
            "Epoch 113/200\n",
            "544/544 [==============================] - 2s 3ms/step - loss: 4.0836e-06 - accuracy: 1.0000\n",
            "Epoch 114/200\n",
            "544/544 [==============================] - 2s 4ms/step - loss: 3.4906e-06 - accuracy: 1.0000\n",
            "Epoch 115/200\n",
            "544/544 [==============================] - 2s 4ms/step - loss: 3.1033e-06 - accuracy: 1.0000\n",
            "Epoch 116/200\n",
            "544/544 [==============================] - 2s 3ms/step - loss: 2.8022e-06 - accuracy: 1.0000\n",
            "Epoch 117/200\n",
            "544/544 [==============================] - 2s 3ms/step - loss: 2.6035e-06 - accuracy: 1.0000\n",
            "Epoch 118/200\n",
            "544/544 [==============================] - 2s 3ms/step - loss: 0.0142 - accuracy: 0.9974\n",
            "Epoch 119/200\n",
            "544/544 [==============================] - 2s 3ms/step - loss: 0.0025 - accuracy: 0.9993\n",
            "Epoch 120/200\n",
            "544/544 [==============================] - 2s 3ms/step - loss: 0.0022 - accuracy: 0.9994\n",
            "Epoch 121/200\n",
            "544/544 [==============================] - 3s 5ms/step - loss: 0.0027 - accuracy: 0.9995\n",
            "Epoch 122/200\n",
            "544/544 [==============================] - 2s 3ms/step - loss: 0.0021 - accuracy: 0.9994\n",
            "Epoch 123/200\n",
            "544/544 [==============================] - 2s 3ms/step - loss: 7.1492e-06 - accuracy: 1.0000\n",
            "Epoch 124/200\n",
            "544/544 [==============================] - 2s 3ms/step - loss: 4.7306e-06 - accuracy: 1.0000\n",
            "Epoch 125/200\n",
            "544/544 [==============================] - 2s 3ms/step - loss: 3.6201e-06 - accuracy: 1.0000\n",
            "Epoch 126/200\n",
            "544/544 [==============================] - 2s 3ms/step - loss: 2.9650e-06 - accuracy: 1.0000\n",
            "Epoch 127/200\n",
            "544/544 [==============================] - 2s 4ms/step - loss: 2.5873e-06 - accuracy: 1.0000\n",
            "Epoch 128/200\n",
            "544/544 [==============================] - 2s 4ms/step - loss: 2.1130e-06 - accuracy: 1.0000\n",
            "Epoch 129/200\n",
            "544/544 [==============================] - 2s 3ms/step - loss: 1.8647e-06 - accuracy: 1.0000\n",
            "Epoch 130/200\n",
            "544/544 [==============================] - 2s 3ms/step - loss: 1.6181e-06 - accuracy: 1.0000\n",
            "Epoch 131/200\n",
            "544/544 [==============================] - 2s 3ms/step - loss: 1.3796e-06 - accuracy: 1.0000\n",
            "Epoch 132/200\n",
            "544/544 [==============================] - 2s 3ms/step - loss: 1.1870e-06 - accuracy: 1.0000\n",
            "Epoch 133/200\n",
            "544/544 [==============================] - 2s 3ms/step - loss: 1.0147e-06 - accuracy: 1.0000\n",
            "Epoch 134/200\n",
            "544/544 [==============================] - 2s 4ms/step - loss: 1.0418e-06 - accuracy: 1.0000\n",
            "Epoch 135/200\n",
            "544/544 [==============================] - 2s 4ms/step - loss: 8.1156e-07 - accuracy: 1.0000\n",
            "Epoch 136/200\n",
            "544/544 [==============================] - 2s 3ms/step - loss: 8.3822e-07 - accuracy: 1.0000\n",
            "Epoch 137/200\n",
            "544/544 [==============================] - 2s 3ms/step - loss: 6.6229e-07 - accuracy: 1.0000\n",
            "Epoch 138/200\n",
            "544/544 [==============================] - 2s 3ms/step - loss: 6.8413e-07 - accuracy: 1.0000\n",
            "Epoch 139/200\n",
            "544/544 [==============================] - 2s 3ms/step - loss: 7.0543e-07 - accuracy: 1.0000\n",
            "Epoch 140/200\n",
            "544/544 [==============================] - 2s 3ms/step - loss: 5.1560e-07 - accuracy: 1.0000\n",
            "Epoch 141/200\n",
            "544/544 [==============================] - 2s 4ms/step - loss: 4.6066e-07 - accuracy: 1.0000\n",
            "Epoch 142/200\n",
            "544/544 [==============================] - 2s 4ms/step - loss: 0.0089 - accuracy: 0.9978\n",
            "Epoch 143/200\n",
            "544/544 [==============================] - 2s 3ms/step - loss: 0.0018 - accuracy: 0.9994\n",
            "Epoch 144/200\n",
            "544/544 [==============================] - 2s 3ms/step - loss: 3.5399e-05 - accuracy: 1.0000\n",
            "Epoch 145/200\n",
            "544/544 [==============================] - 2s 3ms/step - loss: 8.5656e-06 - accuracy: 1.0000\n",
            "Epoch 146/200\n",
            "544/544 [==============================] - 2s 3ms/step - loss: 2.2875e-06 - accuracy: 1.0000\n",
            "Epoch 147/200\n",
            "544/544 [==============================] - 2s 3ms/step - loss: 1.7987e-06 - accuracy: 1.0000\n",
            "Epoch 148/200\n",
            "544/544 [==============================] - 2s 5ms/step - loss: 1.4799e-06 - accuracy: 1.0000\n",
            "Epoch 149/200\n",
            "544/544 [==============================] - 2s 3ms/step - loss: 1.2392e-06 - accuracy: 1.0000\n",
            "Epoch 150/200\n",
            "544/544 [==============================] - 2s 3ms/step - loss: 1.0525e-06 - accuracy: 1.0000\n",
            "Epoch 151/200\n",
            "544/544 [==============================] - 2s 3ms/step - loss: 8.9603e-07 - accuracy: 1.0000\n",
            "Epoch 152/200\n",
            "544/544 [==============================] - 2s 3ms/step - loss: 7.7420e-07 - accuracy: 1.0000\n",
            "Epoch 153/200\n",
            "544/544 [==============================] - 2s 3ms/step - loss: 6.6824e-07 - accuracy: 1.0000\n",
            "Epoch 154/200\n",
            "544/544 [==============================] - 2s 3ms/step - loss: 5.5849e-07 - accuracy: 1.0000\n",
            "Epoch 155/200\n",
            "544/544 [==============================] - 2s 5ms/step - loss: 5.1951e-07 - accuracy: 1.0000\n",
            "Epoch 156/200\n",
            "544/544 [==============================] - 2s 3ms/step - loss: 4.3598e-07 - accuracy: 1.0000\n",
            "Epoch 157/200\n",
            "544/544 [==============================] - 2s 3ms/step - loss: 3.8590e-07 - accuracy: 1.0000\n",
            "Epoch 158/200\n",
            "544/544 [==============================] - 2s 3ms/step - loss: 3.2259e-07 - accuracy: 1.0000\n",
            "Epoch 159/200\n",
            "544/544 [==============================] - 2s 3ms/step - loss: 2.8222e-07 - accuracy: 1.0000\n",
            "Epoch 160/200\n",
            "544/544 [==============================] - 2s 3ms/step - loss: 2.6757e-07 - accuracy: 1.0000\n",
            "Epoch 161/200\n",
            "544/544 [==============================] - 2s 4ms/step - loss: 2.2928e-07 - accuracy: 1.0000\n",
            "Epoch 162/200\n",
            "544/544 [==============================] - 2s 4ms/step - loss: 2.2375e-07 - accuracy: 1.0000\n",
            "Epoch 163/200\n",
            "544/544 [==============================] - 2s 3ms/step - loss: 2.7305e-07 - accuracy: 1.0000\n",
            "Epoch 164/200\n",
            "544/544 [==============================] - 2s 3ms/step - loss: 0.0073 - accuracy: 0.9986\n",
            "Epoch 165/200\n",
            "544/544 [==============================] - 2s 3ms/step - loss: 0.0051 - accuracy: 0.9987\n",
            "Epoch 166/200\n",
            "544/544 [==============================] - 2s 3ms/step - loss: 1.7685e-04 - accuracy: 0.9999\n",
            "Epoch 167/200\n",
            "544/544 [==============================] - 2s 3ms/step - loss: 4.9161e-04 - accuracy: 0.9999\n",
            "Epoch 168/200\n",
            "544/544 [==============================] - 2s 4ms/step - loss: 5.6255e-06 - accuracy: 1.0000\n",
            "Epoch 169/200\n",
            "544/544 [==============================] - 2s 4ms/step - loss: 1.3016e-06 - accuracy: 1.0000\n",
            "Epoch 170/200\n",
            "544/544 [==============================] - 2s 3ms/step - loss: 1.0006e-06 - accuracy: 1.0000\n",
            "Epoch 171/200\n",
            "544/544 [==============================] - 2s 3ms/step - loss: 8.3668e-07 - accuracy: 1.0000\n",
            "Epoch 172/200\n",
            "544/544 [==============================] - 2s 3ms/step - loss: 7.0436e-07 - accuracy: 1.0000\n",
            "Epoch 173/200\n",
            "544/544 [==============================] - 2s 3ms/step - loss: 5.8811e-07 - accuracy: 1.0000\n",
            "Epoch 174/200\n",
            "544/544 [==============================] - 2s 4ms/step - loss: 5.0894e-07 - accuracy: 1.0000\n",
            "Epoch 175/200\n",
            "544/544 [==============================] - 2s 5ms/step - loss: 4.3504e-07 - accuracy: 1.0000\n",
            "Epoch 176/200\n",
            "544/544 [==============================] - 2s 3ms/step - loss: 3.7578e-07 - accuracy: 1.0000\n",
            "Epoch 177/200\n",
            "544/544 [==============================] - 2s 3ms/step - loss: 3.3301e-07 - accuracy: 1.0000\n",
            "Epoch 178/200\n",
            "544/544 [==============================] - 2s 3ms/step - loss: 2.8339e-07 - accuracy: 1.0000\n",
            "Epoch 179/200\n",
            "544/544 [==============================] - 2s 3ms/step - loss: 2.6044e-07 - accuracy: 1.0000\n",
            "Epoch 180/200\n",
            "544/544 [==============================] - 2s 3ms/step - loss: 2.2115e-07 - accuracy: 1.0000\n",
            "Epoch 181/200\n",
            "544/544 [==============================] - 2s 4ms/step - loss: 2.1570e-07 - accuracy: 1.0000\n",
            "Epoch 182/200\n",
            "544/544 [==============================] - 2s 4ms/step - loss: 1.5845e-07 - accuracy: 1.0000\n",
            "Epoch 183/200\n",
            "544/544 [==============================] - 2s 3ms/step - loss: 1.8989e-07 - accuracy: 1.0000\n",
            "Epoch 184/200\n",
            "544/544 [==============================] - 2s 3ms/step - loss: 1.4968e-07 - accuracy: 1.0000\n",
            "Epoch 185/200\n",
            "544/544 [==============================] - 2s 3ms/step - loss: 1.6148e-07 - accuracy: 1.0000\n",
            "Epoch 186/200\n",
            "544/544 [==============================] - 2s 3ms/step - loss: 9.5229e-08 - accuracy: 1.0000\n",
            "Epoch 187/200\n",
            "544/544 [==============================] - 2s 3ms/step - loss: 0.0045 - accuracy: 0.9988\n",
            "Epoch 188/200\n",
            "544/544 [==============================] - 2s 4ms/step - loss: 0.0048 - accuracy: 0.9987\n",
            "Epoch 189/200\n",
            "544/544 [==============================] - 2s 4ms/step - loss: 0.0031 - accuracy: 0.9991\n",
            "Epoch 190/200\n",
            "544/544 [==============================] - 2s 3ms/step - loss: 9.3905e-05 - accuracy: 0.9999\n",
            "Epoch 191/200\n",
            "544/544 [==============================] - 2s 3ms/step - loss: 1.6574e-05 - accuracy: 1.0000\n",
            "Epoch 192/200\n",
            "544/544 [==============================] - 2s 3ms/step - loss: 1.4307e-06 - accuracy: 1.0000\n",
            "Epoch 193/200\n",
            "544/544 [==============================] - 2s 3ms/step - loss: 1.0737e-06 - accuracy: 1.0000\n",
            "Epoch 194/200\n",
            "544/544 [==============================] - 2s 3ms/step - loss: 8.6006e-07 - accuracy: 1.0000\n",
            "Epoch 195/200\n",
            "544/544 [==============================] - 3s 5ms/step - loss: 7.0465e-07 - accuracy: 1.0000\n",
            "Epoch 196/200\n",
            "544/544 [==============================] - 2s 3ms/step - loss: 5.8561e-07 - accuracy: 1.0000\n",
            "Epoch 197/200\n",
            "544/544 [==============================] - 2s 3ms/step - loss: 4.9235e-07 - accuracy: 1.0000\n",
            "Epoch 198/200\n",
            "544/544 [==============================] - 2s 3ms/step - loss: 4.1588e-07 - accuracy: 1.0000\n",
            "Epoch 199/200\n",
            "544/544 [==============================] - 2s 3ms/step - loss: 3.4680e-07 - accuracy: 1.0000\n",
            "Epoch 200/200\n",
            "544/544 [==============================] - 2s 3ms/step - loss: 2.9588e-07 - accuracy: 1.0000\n"
          ]
        },
        {
          "output_type": "execute_result",
          "data": {
            "text/plain": [
              "<keras.callbacks.History at 0x7f3d3e85cc70>"
            ]
          },
          "metadata": {},
          "execution_count": 112
        }
      ]
    },
    {
      "cell_type": "code",
      "source": [
        "\n",
        "predictions = model.predict(test_images)\n"
      ],
      "metadata": {
        "id": "I-zjjit1qp1X",
        "colab": {
          "base_uri": "https://localhost:8080/"
        },
        "outputId": "367f4ba8-0e84-4c2c-d08a-3ef47138e34c"
      },
      "execution_count": null,
      "outputs": [
        {
          "output_type": "stream",
          "name": "stdout",
          "text": [
            "66/66 [==============================] - 0s 2ms/step\n"
          ]
        }
      ]
    },
    {
      "cell_type": "code",
      "source": [],
      "metadata": {
        "id": "9F9xV8M1rSTv"
      },
      "execution_count": null,
      "outputs": []
    },
    {
      "cell_type": "code",
      "source": [
        "model.save('saved_model/simple_ocr_plates_model')"
      ],
      "metadata": {
        "id": "0zqoLC2FrSfm"
      },
      "execution_count": null,
      "outputs": []
    },
    {
      "cell_type": "code",
      "source": [
        "!zip -r /content/saved_model/simple_ocr_plates_model.zip /content/saved_model/simple_ocr_plates_model"
      ],
      "metadata": {
        "colab": {
          "base_uri": "https://localhost:8080/"
        },
        "id": "ey-ykb2QCM4t",
        "outputId": "77cc8880-c937-48fd-9923-992c16e5d5c7"
      },
      "execution_count": null,
      "outputs": [
        {
          "output_type": "stream",
          "name": "stdout",
          "text": [
            "  adding: content/saved_model/simple_ocr_plates_model/ (stored 0%)\n",
            "  adding: content/saved_model/simple_ocr_plates_model/assets/ (stored 0%)\n",
            "  adding: content/saved_model/simple_ocr_plates_model/fingerprint.pb (stored 0%)\n",
            "  adding: content/saved_model/simple_ocr_plates_model/variables/ (stored 0%)\n",
            "  adding: content/saved_model/simple_ocr_plates_model/variables/variables.data-00000-of-00001 (deflated 20%)\n",
            "  adding: content/saved_model/simple_ocr_plates_model/variables/variables.index (deflated 57%)\n",
            "  adding: content/saved_model/simple_ocr_plates_model/keras_metadata.pb (deflated 84%)\n",
            "  adding: content/saved_model/simple_ocr_plates_model/saved_model.pb (deflated 87%)\n"
          ]
        }
      ]
    },
    {
      "cell_type": "code",
      "source": [
        "ocr_model = tf.keras.models.load_model('/content/saved_model/simple_ocr_plates_model')"
      ],
      "metadata": {
        "id": "CblYQNhcrTZk"
      },
      "execution_count": null,
      "outputs": []
    },
    {
      "cell_type": "code",
      "source": [
        "test_img_path = \"/content/test/he2/10788.jpg\"\n",
        "test_img = cv.imread(test_img_path, 0)\n",
        "test_img = np.expand_dims(test_img, axis=0)\n",
        "predictions = ocr_model.predict(test_images)"
      ],
      "metadata": {
        "id": "fGdGKKb6smlK",
        "colab": {
          "base_uri": "https://localhost:8080/"
        },
        "outputId": "61123944-05b9-48bb-c060-695c1391f4cb"
      },
      "execution_count": null,
      "outputs": [
        {
          "output_type": "stream",
          "name": "stdout",
          "text": [
            "66/66 [==============================] - 0s 3ms/step\n"
          ]
        }
      ]
    },
    {
      "cell_type": "code",
      "source": [
        "class_names[np.argmax(predictions[0])]"
      ],
      "metadata": {
        "colab": {
          "base_uri": "https://localhost:8080/",
          "height": 35
        },
        "id": "9EHAGKHQtF2I",
        "outputId": "69a04e7c-7e45-484e-ec2f-79648fc9a8c8"
      },
      "execution_count": null,
      "outputs": [
        {
          "output_type": "execute_result",
          "data": {
            "text/plain": [
              "'6'"
            ],
            "application/vnd.google.colaboratory.intrinsic+json": {
              "type": "string"
            }
          },
          "metadata": {},
          "execution_count": 120
        }
      ]
    },
    {
      "cell_type": "code",
      "source": [
        "test_imgs = []\n",
        "test_labels = []\n",
        "for indx, subdir in enumerate(subdirs):\n",
        "  imgfolder = os.path.join(test_path, subdir)\n",
        "  if os.path.exists(imgfolder):\n",
        "    for imgname in os.listdir(imgfolder):\n",
        "      img = cv.imread(os.path.join(imgfolder, imgname), 0)\n",
        "      test_imgs.append(img)\n",
        "      test_labels.append(labels_nums[indx])\n",
        "\n",
        "c = list(zip(test_imgs, test_labels))\n",
        "random.shuffle(c)\n",
        "test_imgs, test_labels = zip(*c)\n",
        "\n",
        "test_images = np.array(test_imgs)\n",
        "test_labels = np.array(test_labels)"
      ],
      "metadata": {
        "id": "hSoYI1ZWtHvY"
      },
      "execution_count": null,
      "outputs": []
    },
    {
      "cell_type": "code",
      "source": [
        "\n",
        "predictions = ocr_model.predict(test_images)"
      ],
      "metadata": {
        "id": "N8GAbNOXtpaH",
        "colab": {
          "base_uri": "https://localhost:8080/"
        },
        "outputId": "ed037bb7-84b1-4f5e-931e-bdff7035eec9"
      },
      "execution_count": null,
      "outputs": [
        {
          "output_type": "stream",
          "name": "stdout",
          "text": [
            "66/66 [==============================] - 0s 2ms/step\n"
          ]
        }
      ]
    },
    {
      "cell_type": "code",
      "source": [
        "num=126\n",
        "print(class_names[np.argmax(predictions[num])])\n",
        "print(np.argmax(predictions[num]))\n",
        "plt.imshow(test_images[num])"
      ],
      "metadata": {
        "colab": {
          "base_uri": "https://localhost:8080/",
          "height": 482
        },
        "id": "uYc7UFeKuQVF",
        "outputId": "5733fdd9-4a4d-4649-c403-08f33490c797"
      },
      "execution_count": null,
      "outputs": [
        {
          "output_type": "stream",
          "name": "stdout",
          "text": [
            "7\n",
            "7\n"
          ]
        },
        {
          "output_type": "execute_result",
          "data": {
            "text/plain": [
              "<matplotlib.image.AxesImage at 0x7f3d147edf60>"
            ]
          },
          "metadata": {},
          "execution_count": 264
        },
        {
          "output_type": "display_data",
          "data": {
            "text/plain": [
              "<Figure size 640x480 with 1 Axes>"
            ],
            "image/png": "[encoded data removed]"
          },
          "metadata": {}
        }
      ]
    },
    {
      "cell_type": "code",
      "source": [
        "y_predicted = model.predict(test_images)\n",
        "y_predicted_labels = [np.argmax(i) for i in y_predicted]\n",
        "\n",
        "cm = tf.math.confusion_matrix(labels=test_labels, predictions=y_predicted_labels)\n",
        "\n",
        "import seaborn as sn\n",
        "plt.figure(figsize = (10,7))\n",
        "sn.heatmap(cm, annot=True, fmt='d')\n",
        "plt.xlabel('Predicted')\n",
        "plt.ylabel('Truth')"
      ],
      "metadata": {
        "colab": {
          "base_uri": "https://localhost:8080/",
          "height": 654
        },
        "id": "YFlWE2XiucRU",
        "outputId": "c7c70b58-b6aa-43a2-b098-6369651b4e79"
      },
      "execution_count": null,
      "outputs": [
        {
          "output_type": "stream",
          "name": "stdout",
          "text": [
            "66/66 [==============================] - 0s 2ms/step\n"
          ]
        },
        {
          "output_type": "execute_result",
          "data": {
            "text/plain": [
              "Text(95.72222222222221, 0.5, 'Truth')"
            ]
          },
          "metadata": {},
          "execution_count": 124
        },
        {
          "output_type": "display_data",
          "data": {
            "text/plain": [
              "<Figure size 1000x700 with 2 Axes>"
            ],
            "image/png": "[encoded data removed]"
          },
          "metadata": {}
        }
      ]
    },
    {
      "cell_type": "code",
      "source": [],
      "metadata": {
        "id": "U_H89_rKwtxu"
      },
      "execution_count": null,
      "outputs": []
    }
  ],
  "metadata": {
    "colab": {
      "provenance": [],
      "gpuType": "T4",
      "include_colab_link": true
    },
    "kernelspec": {
      "display_name": "Python 3",
      "name": "python3"
    },
    "language_info": {
      "name": "python"
    },
    "accelerator": "GPU"
  },
  "nbformat": 4,
  "nbformat_minor": 0
}